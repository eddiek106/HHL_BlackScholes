{
 "cells": [
  {
   "cell_type": "code",
   "execution_count": null,
   "metadata": {},
   "outputs": [],
   "source": [
    "#-*- coding: utf-8 -*-\n",
    "\"\"\"\n",
    "File: bs_1D_properboundary.ipynb\n",
    "Author: Eddie Kelly\n",
    "Date: 2024\n",
    "\n",
    "This file is part of the Quantum algorithm for linear systems of equations for the multi-dimensional Black-Scholes equations project which was completed as part \n",
    "of the thesis https://mural.maynoothuniversity.ie/id/eprint/19288/.\n",
    "\n",
    "License: MIT License\n",
    "\"\"\"\n",
    "\n",
    "import sys\n",
    "sys.path.append(\"../\")\n",
    "sys.path.append(\"../../\")"
   ]
  },
  {
   "cell_type": "code",
   "execution_count": 97,
   "metadata": {},
   "outputs": [],
   "source": [
    "import numpy as np\n",
    "import matplotlib.pyplot as plt\n",
    "from IPython.display import display, Markdown\n",
    "import bs_differential_op as bs_op \n",
    "from Matrices import matrixmod as mm\n",
    "from lognormal import normal_1D_stock"
   ]
  },
  {
   "cell_type": "markdown",
   "metadata": {},
   "source": [
    "# Consider the Black Scholes equation:\n",
    "$$\n",
    "\\frac{\\partial V}{\\partial t}+\\frac{1}{2}\\sigma^{2}S^{2}\\frac{\\partial^{2}V}{\\partial S^{2}}+rS\\frac{\\partial V}{\\partial S} -rV = 0\n",
    "$$\n",
    "\n",
    "\n",
    "Consider also the boundary and initial conditions for the European put option:\n",
    "$$\n",
    "V(T,S)  = max(K-S,0)\n",
    "$$\n",
    "$$\n",
    "V(t,0) = Ke^{-r(T-t)} \\quad \\forall \\quad t\n",
    "$$\n",
    "$$\n",
    "V(t,S) \\sim 0 \\quad as \\quad S \\rightarrow \\infty\n",
    "$$\n",
    "Where the variables $T$ corresponds to maturity, $ K$ for strike price, $r$ for interest rate, $\\sigma$ for volatility,\n",
    "S for spot or current price and V for the value of the option.\n",
    "\n",
    "---\n",
    "First Substitution\n",
    "---\n",
    "Taking the following variables changes: \n",
    "$$\n",
    "x = \\ln(S) \\qquad \\tau = T-t\n",
    "$$\n",
    "The boundary and initial conditions for the Black-Scholes equation can be transformed using the new variables as follows:\n",
    "\n",
    "1. **Initial condition:**\n",
    "\n",
    "The initial condition for an European put option is given by:\n",
    "\n",
    "$$\n",
    "V(T,S)  = max(K-S,0)\n",
    "$$\n",
    "\n",
    "Using the variable change $x = \\ln(S)$, the initial condition becomes:\n",
    "\n",
    "$$\n",
    "V(\\tau=0, x) = max(K - e^x, 0)\n",
    "$$\n",
    "\n",
    "2. **Boundary conditions:**\n",
    "\n",
    "The boundary conditions are given by:\n",
    "\n",
    "$$\n",
    "V(t,0) = Ke^{-r(T-t)} \\quad \\forall \\quad t\n",
    "$$\n",
    "\n",
    "and\n",
    "\n",
    "$$\n",
    "V(t,S) \\sim 0 \\quad as \\quad S \\rightarrow \\infty\n",
    "$$\n",
    "\n",
    "Using the variable change $x = \\ln(S)$ and $\\tau = T - t$, the boundary conditions become:\n",
    "\n",
    "$$\n",
    "V(\\tau, x=-\\infty) = K e^{-r\\tau}\n",
    "$$\n",
    "\n",
    "and\n",
    "\n",
    "$$\n",
    "V(\\tau, x=\\infty) \\sim 0\n",
    "$$\n",
    "\n",
    "The new Black Scholes differential equation is :\n",
    "$$\n",
    "\\frac{\\partial V}{\\partial\\tau} = \\frac{1}{2}\\sigma^{2}\\frac{\\partial^{2}V}{\\partial x^{2}}+\\left(r-\\frac{\\sigma^{2}}{2}\\right)\\frac{\\partial V}{\\partial x} -rV\n",
    "$$\n",
    "---\n",
    "Second Substituition\n",
    "---\n",
    "Finally for the final substitution $W = e^{r\\tau}V$ , we get the final form of the boundary/initial conditions:\n",
    "If you switch to the variable $W = e^{r\\tau}V$, the boundary and initial conditions for the Black-Scholes equation can be transformed as follows:\n",
    "\n",
    "1. **Initial condition:**\n",
    "\n",
    "The initial condition for an European put option is given by:\n",
    "\n",
    "$$\n",
    "V(\\tau=0, x) = max(K - e^x, 0)\n",
    "$$\n",
    "\n",
    "Using the variable change $W = e^{r\\tau}V$, the initial condition becomes:\n",
    "\n",
    "$$\n",
    "W(\\tau=0, x) =  max(K - e^x, 0)\n",
    "$$\n",
    "\n",
    "2. **Boundary conditions:**\n",
    "\n",
    "The boundary conditions are given by:\n",
    "\n",
    "$$\n",
    "V(\\tau, x=-\\infty) = K e^{-r\\tau}\n",
    "$$\n",
    "\n",
    "and\n",
    "\n",
    "$$\n",
    "V(\\tau, x=\\infty) \\sim 0\n",
    "$$\n",
    "\n",
    "Using the variable change $W = e^{r\\tau}V$, the boundary conditions become:\n",
    "\n",
    "$$\n",
    "W(\\tau, x=-\\infty) = K\n",
    "$$\n",
    "\n",
    "and\n",
    "\n",
    "$$\n",
    "W(\\tau, x=\\infty) \\sim 0\n",
    "$$\n",
    "\n",
    "These transformed conditions can now be used with the second - transformed Black-Scholes equation.\n",
    "$$\n",
    "\\frac{\\partial W}{\\partial \\tau} = \\frac{1}{2}\\sigma^{2}\\frac{\\partial ^{2}W}{\\partial W^{2}}+\\left(r-\\frac{\\sigma^{2}}{2}\\right)\\frac{\\partial W}{\\partial x}\n",
    "$$\n",
    "---\n"
   ]
  },
  {
   "cell_type": "markdown",
   "metadata": {},
   "source": [
    "Refering to the thesis the boundary conditions(assuming proper derivative approximations) for the 1D case will be given by :\n",
    "# Boundary conditions\n",
    "\n",
    "Using the facts that \n",
    "$$\n",
    "L(t) = K \\quad \\partial_{x}L(t) = 0\n",
    "$$\n",
    "\n",
    "$$\n",
    "U(t) = 0 \\quad \\partial_{x}U(t) = 0\n",
    "$$\n",
    "\n",
    "\n",
    "\n",
    "## Boundary conditions for the \"proper\" scheme\n",
    "$$\n",
    "\\vec{V}_{1} = \\frac{\\sigma^{2}}{2}\\vec{B}_{(\\partial^2 x)}(t)+\\left(r-\\frac{\\sigma^{2}}{2}\\right)\\vec{B}_{(\\partial x)}(t)\n",
    "$$\n",
    "\n",
    "$$\n",
    "\\begin{gather*}\n",
    "\\vec{V}_{1} = \n",
    "\\frac{\\sigma^{2}}{2}\n",
    "    \\begin{pmatrix}\n",
    "     L(t) \\\\\n",
    "     \\vdots \\\\\n",
    "     U(t)\n",
    "     \\end{pmatrix}\n",
    "+\\left(r-\\frac{\\sigma^{2}}{2}\\right)\n",
    "    \\begin{pmatrix}\n",
    "    -L(t) \\\\\n",
    "    \\vdots \\\\\n",
    "    U(t) \\\\\n",
    "    \\end{pmatrix}\n",
    "=\n",
    "    \\begin{pmatrix}\n",
    "    (\\sigma^{2}-r)L(t)\\\\\n",
    "    \\vdots\\\\\n",
    "    rU(t)\\\\\n",
    "    \\end{pmatrix}         \n",
    "\\Rightarrow         \n",
    "    \\begin{pmatrix}\n",
    "    (\\sigma^{2}-r)K\\\\\n",
    "    \\vdots\\\\\n",
    "    0\\\\\n",
    "    \\end{pmatrix}         \n",
    "\\\n",
    "\\end{gather*}\n",
    "$$\n",
    "\n",
    "## Boundary conditions for the \"improper\" scheme\n",
    "$$\n",
    "\\vec{V}_{1} = \\frac{\\sigma^{2}}{2}\\vec{\\tilde{B}}_{(\\partial^2 x)}(t)+\\left(r-\\frac{\\sigma^{2}}{2}\\right)\\vec{B}_{(\\partial x)}(t)\n",
    "$$\n",
    "\n",
    "$$\n",
    "\\begin{gather*}\n",
    "\\vec{V}_{1} = \n",
    "\\frac{\\sigma^{2}}{2}\n",
    "    \\begin{pmatrix}\n",
    "     -2h \\partial_{x}L(t) \\\\\n",
    "     L(t) \\\\\n",
    "     \\vdots \\\\\n",
    "     U(t) \\\\\n",
    "     2h \\partial_{x}U(t) \\\\\n",
    "     \\end{pmatrix}\n",
    "+\\left(r-\\frac{\\sigma^{2}}{2}\\right)\n",
    "    \\begin{pmatrix}\n",
    "    -L(t) \\\\\n",
    "    0 \\\\\n",
    "    \\vdots \\\\\n",
    "    0 \\\\\n",
    "    U(t) \\\\\n",
    "    \\end{pmatrix}\n",
    "=\n",
    "\\frac{\\sigma^{2}}{2}\n",
    "    \\begin{pmatrix}\n",
    "    0 \\\\\n",
    "    K \\\\\n",
    "    \\vdots\\\\\n",
    "    0\\\\\n",
    "    0\\\\\n",
    "    \\end{pmatrix}         \n",
    "+\\left(r-\\frac{\\sigma^2}{2}\\right)         \n",
    "    \\begin{pmatrix}\n",
    "    -K \\\\\n",
    "    0 \\\\\n",
    "    \\vdots\\\\\n",
    "    0\\\\\n",
    "    0 \\\\\n",
    "    \\end{pmatrix}         \n",
    "=\n",
    "    \\begin{pmatrix}\n",
    "    \\left(\\frac{\\sigma^{2}}{2} - r\\right)K \\\\\n",
    "    \\frac{\\sigma^2}{2}K\\\\\n",
    "    0 \\\\\n",
    "    \\vdots \\\\\n",
    "    0 \\\\\n",
    "    \\end{pmatrix}\n",
    "\\end{gather*}\n",
    "$$\n",
    "\n",
    "---"
   ]
  },
  {
   "cell_type": "code",
   "execution_count": 98,
   "metadata": {},
   "outputs": [],
   "source": [
    "#---Define the parameters relating to Black-Scholes model---#\n",
    "S_0 = 80\n",
    "K = 100\n",
    "vol = 0.1\n",
    "r = 0.05\n",
    "T_0 = 1                                                    \n",
    "T_1 = 1\n",
    "Total_life_option = T_0 + T_1\n",
    "\n",
    "#---Define the parameters relating to the discretization---#\n",
    "n_grid = 300\n",
    "n_grid_internal = n_grid - 2\n",
    "\n",
    "\n",
    "x_lower= -7\n",
    "x_upper= 7\n",
    "spatial_step = (x_upper-x_lower)/(n_grid - 1)\n",
    "Num_block = 5\n",
    "Size_block = 5\n",
    "temporal_step = T_0/Num_block                                # We only simulate the PDE for the 'first' part of the option\n",
    "\n",
    "grid = np.linspace(x_lower+(spatial_step),x_upper-(spatial_step),n_grid_internal)\n",
    "\n",
    "def convert_to_x(j,n_grid):                                         # EDDIE, j is in the interval of integers from [1,N-2]\n",
    "    if j < 1 or j > n_grid-2:\n",
    "\n",
    "        raise ValueError(\"j must be in the interval [1,N-2]\")\n",
    "\n",
    "    return spatial_step*j + x_lower\n",
    "\n",
    "\n",
    "\n",
    "\n",
    "\n",
    "#--Initial Condition--#\n",
    "\n",
    "V_0_std = np.maximum(K - np.exp(grid),0)\n",
    "V_0_mod = np.maximum(K - np.exp(grid),0)\n",
    "\n",
    "#---Boundary conditions---#\n",
    "#--Standard Boundary Conditions--#\n",
    "\n",
    "V_1_std = np.zeros(n_grid_internal)\n",
    "V_1_std[0] = (vol**2 -r)*K\n",
    "\n",
    "#--Modified Boundary Conditions--#\n",
    "\n",
    "V_1_mod = np.zeros(n_grid_internal)\n",
    "V_1_mod[0] = ((vol**2)/2 -r)*K\n",
    "V_1_mod[1] = ((vol**2)/2)*K"
   ]
  },
  {
   "cell_type": "code",
   "execution_count": 99,
   "metadata": {},
   "outputs": [
    {
     "name": "stdout",
     "output_type": "stream",
     "text": [
      "80_100_0.1_0.05_1_1_2_300_-7_7_0.047_5_5_0.2\n"
     ]
    }
   ],
   "source": [
    "print('_'.join([str(var) for var in [S_0, K, vol, r, T_0, T_1, Total_life_option, n_grid, x_lower, x_upper, np.round(spatial_step,3), Num_block, Size_block, np.round(temporal_step,3)]]))"
   ]
  },
  {
   "cell_type": "code",
   "execution_count": 100,
   "metadata": {},
   "outputs": [
    {
     "data": {
      "text/markdown": [
       "\n",
       "\n",
       "| Parameter | Values |\n",
       "|--------|-------------|\n",
       "|  $S_0$  |   80    |\n",
       "|  $r$  |  0.05    |\n",
       "|  $\\sigma$  |   0.1   |\n",
       "|  $T_0$  |   1   |\n",
       "|  $T_1$  |   1   |\n",
       "| $(x)_{lower}$ | -7 | \n",
       "| $(x)_{upper}$ | 7 |\n",
       "| $N_{gridpoints}$| 300 |\n",
       "| $Spatial Step$ | 0.047 |\n",
       "| $Temporal Step$ | 0.2 |\n",
       "\n",
       "As we are dealing with discretized system we have to place upper and lower limits on the simulation zone. \n",
       "Lower and upper $x$ values that range from -7 to 7 corresponds to stock prices of $e^{-7} \n",
       "\\sim 9.12e-04 $ and\n",
       "$e^{7} \\sim 1.1e+03$ respectively.\n",
       "For the given value of  $S_0$ = 80 , the lower and upper limits are sufficient.\n",
       "\n",
       "---\n"
      ],
      "text/plain": [
       "<IPython.core.display.Markdown object>"
      ]
     },
     "metadata": {},
     "output_type": "display_data"
    }
   ],
   "source": [
    "markdown_string =f'''\n",
    "\n",
    "| Parameter | Values |\n",
    "|--------|-------------|\n",
    "|  $S_{0}$  |   {S_0}    |\n",
    "|  $r$  |  {r}    |\n",
    "|  $\\sigma$  |   {vol}   |\n",
    "|  $T_0$  |   {T_0}   |\n",
    "|  $T_1$  |   {T_1}   |\n",
    "| $(x)_{{lower}}$ | {x_lower} | \n",
    "| $(x)_{{upper}}$ | {x_upper} |\n",
    "| $N_{{gridpoints}}$| {n_grid} |\n",
    "| $Spatial Step$ | {np.round(spatial_step,3)} |\n",
    "| $Temporal Step$ | {np.round(temporal_step,3)} |\n",
    "\n",
    "As we are dealing with discretized system we have to place upper and lower limits on the simulation zone. \n",
    "Lower and upper $x$ values that range from {x_lower} to {x_upper} corresponds to stock prices of $e^{{{x_lower}}} \n",
    "\\sim {np.format_float_scientific(np.exp(x_lower),precision=2)} $ and\n",
    "$e^{{{x_upper}}} \\sim {np.format_float_scientific(np.exp(x_upper),precision=2)}$ respectively.\n",
    "For the given value of  $S_{0}$ = {S_0} , the lower and upper limits are sufficient.\n",
    "\n",
    "---\n",
    "'''\n",
    "display(Markdown(markdown_string))"
   ]
  },
  {
   "cell_type": "code",
   "execution_count": 101,
   "metadata": {},
   "outputs": [
    {
     "name": "stdout",
     "output_type": "stream",
     "text": [
      "(10728,)\n"
     ]
    }
   ],
   "source": [
    "#--Defintion and inversion of improper differential operator with modified boundary conditions--#\n",
    "\n",
    "diff_op_improp = bs_op.black_scholes_1D_improp(n_grid_internal,spatial_step,r,vol)\n",
    "b_vec_mod = mm.Bmatrix_independent(Size_block,temporal_step,diff_op_improp,V_0_mod,V_1_mod)\n",
    "bound_init_vec_mod = mm.bound_init_vec(Num_block,Size_block,b_vec_mod)\n",
    "\n",
    "print(bound_init_vec_mod.shape) # Gut check for matrix size\n",
    "full_sol_improp = np.linalg.solve(mm.matrix_ode_tens(Num_block,Size_block,diff_op_improp,temporal_step),bound_init_vec_mod)\n",
    "acc_sol_improp = mm.extractor(Num_block,Size_block,diff_op_improp,full_sol_improp)"
   ]
  },
  {
   "cell_type": "code",
   "execution_count": 102,
   "metadata": {},
   "outputs": [],
   "source": [
    "#--Definition and inversion of proper differential operator with standard boundary conditions--#\n",
    "\n",
    "diff_op_prop = bs_op.black_scholes_1D_prop(n_grid_internal,spatial_step,r,vol)\n",
    "b_vec_std = mm.Bmatrix_independent(Size_block,temporal_step,diff_op_prop,V_0_std,V_1_std)\n",
    "bound_init_vec_std = mm.bound_init_vec(Num_block,Size_block,b_vec_std)\n",
    "\n",
    "full_sol_prop = np.linalg.solve(mm.matrix_ode_tens(Num_block,Size_block,diff_op_prop,temporal_step),bound_init_vec_std)\n",
    "acc_sol_prop = mm.extractor(Num_block,Size_block,diff_op_prop,full_sol_prop)"
   ]
  },
  {
   "cell_type": "markdown",
   "metadata": {},
   "source": [
    "# Plotting"
   ]
  },
  {
   "cell_type": "code",
   "execution_count": 103,
   "metadata": {},
   "outputs": [
    {
     "data": {
      "image/png": "[encoded data removed]",
      "text/plain": [
       "<Figure size 1000x500 with 2 Axes>"
      ]
     },
     "metadata": {},
     "output_type": "display_data"
    }
   ],
   "source": [
    "fig = plt.figure(figsize=(10,5))\n",
    "ylim = max(max(acc_sol_prop),max(acc_sol_improp))\n",
    "\n",
    "ax1 = fig.add_subplot(121)\n",
    "ax1.plot(grid, acc_sol_prop, color='red')\n",
    "ax1.set_ylim(0,ylim)\n",
    "ax1.set_xlabel(r'$x := \\ln(S)$')\n",
    "ax1.set_ylabel(r'$W := e^{r\\tau}V$')\n",
    "# ax1.set_title(r'Plot of $W$ vs $x$ (Proper Scheme) up to $T_{0}$')\n",
    "ax1.grid(True)\n",
    "ax1.text(0.47, -0.15, '(a)', transform=ax1.transAxes, fontsize=12, va='center')\n",
    "ax1.plot(np.log(S_0),1,marker=\"|\",color='black',markersize=10)\n",
    "ax1.annotate(r'$x_{0}=\\ln(S_{0})$', xy=(np.log(S_0), 0), xytext=(np.log(S_0), 0 - 20),\n",
    "             arrowprops=dict(arrowstyle=\"->\",facecolor='black'))\n",
    "\n",
    "ax2 = fig.add_subplot(122)\n",
    "ax2.plot(grid, acc_sol_improp, color='red')  \n",
    "ax2.set_ylim(0,ylim)\n",
    "ax2.set_xlabel(r'$x := \\ln(S)$')\n",
    "ax2.set_ylabel(r'$W := e^{r\\tau}V $', fontsize=10)\n",
    "# ax2.set_title(r'Plot of $W$ vs $x$ (Improper Scheme) up to $T_{0}$')  \n",
    "ax2.grid(True)\n",
    "ax2.text(1.66, -0.15, '(b)', transform=ax1.transAxes, fontsize=12, va='center')\n",
    "ax2.plot(np.log(S_0),1,marker=\"|\",color='black',markersize=10)\n",
    "ax2.annotate(r'$x_{0}=\\ln(S_{0})$', xy=(np.log(S_0), 0), xytext=(np.log(S_0), 0 - 20),\n",
    "             arrowprops=dict(arrowstyle=\"->\",facecolor='black'))\n",
    "\n",
    "plt.tight_layout()  \n",
    "plt.show()"
   ]
  },
  {
   "cell_type": "markdown",
   "metadata": {},
   "source": [
    "As expected with the improper expression for the central second order difference, as we have not specified the extra boundary conditions required at the boundaries, we will get edge effects whereas we do not encounter this artefact with the proper use of the central second order difference."
   ]
  },
  {
   "cell_type": "markdown",
   "metadata": {},
   "source": [
    "## Definition of normal distribution \n",
    "\n",
    "Thus far we have simulated the solution for a time $T_{0}$ We now produce the\n",
    "normla distribution with the parameter $T_{1}$. By taking the appropiately discounted price \n",
    "of the inner productt of these two quantities, we can recover the value of the option.\n"
   ]
  },
  {
   "cell_type": "code",
   "execution_count": 104,
   "metadata": {},
   "outputs": [
    {
     "data": {
      "text/plain": [
       "Text(1.66, -0.15, '(b)')"
      ]
     },
     "execution_count": 104,
     "metadata": {},
     "output_type": "execute_result"
    },
    {
     "data": {
      "image/png": "[encoded data removed]",
      "text/plain": [
       "<Figure size 1000x500 with 2 Axes>"
      ]
     },
     "metadata": {},
     "output_type": "display_data"
    }
   ],
   "source": [
    "pdf_list_grid = []\n",
    "pdf_list_cont = []\n",
    "for i in grid:\n",
    "    pdf_list_grid.append(normal_1D_stock(i,np.log(S_0),r,vol,T_1))\n",
    "for j in np.linspace(x_lower+spatial_step,x_upper-spatial_step,1000):\n",
    "    pdf_list_cont.append(normal_1D_stock(j,np.log(S_0),r,vol,T_1))\n",
    "\n",
    "fig = plt.figure(figsize=(10,5))\n",
    "   \n",
    "ax1 = fig.add_subplot(121)\n",
    "ax1.plot(grid, pdf_list_grid, color='blue')\n",
    "ax1.set_xlabel(r'$x := \\ln(S)$')\n",
    "ax1.set_ylabel(r'$p(x,T_{1})$')\n",
    "# ax1.set_title(r'Plot of $p(x,T_{1})$ continuous')\n",
    "ax1.grid(True)\n",
    "ax1.text(0.47, -0.15, '(a)', transform=ax1.transAxes, fontsize=12, va='center')\n",
    "\n",
    "\n",
    "ax2 = fig.add_subplot(122)\n",
    "ax2.plot(grid, pdf_list_grid, color='blue')\n",
    "ax2.set_xlabel(r'$x := \\ln(S)$')\n",
    "ax2.set_ylabel(r'$p(x,T_{1})$')\n",
    "# ax2.set_title(r'Plot of $p(x,T_{1})$ grid')\n",
    "ax2.grid(True)\n",
    "ax2.text(1.66, -0.15, '(b)', transform=ax1.transAxes, fontsize=12, va='center')"
   ]
  },
  {
   "cell_type": "code",
   "execution_count": 105,
   "metadata": {},
   "outputs": [
    {
     "data": {
      "text/markdown": [
       "\n",
       "# Extracting the value of the European put option via PDE solution at time $T_0$ = 1.\n",
       "---\n",
       "For the spot price of $S_{0} = 80$, we need to extract the value of solution at approximately\n",
       "$$\n",
       "x = \\ln(80) \\sim 4.382\n",
       "$$\n",
       "\n",
       "This roughly corresponds to 242th component of the solution vector.\n",
       "\n",
       "As $V = e^{-r\\tau}W$, and the fact that the variables $r = 0.05$ and $T_0 = 1$, we need to multiply the result by\n",
       "$$\n",
       "e^{-r \\tau} \\Rightarrow e^{-0.05}\n",
       "$$\n",
       "Hence the value of the option should be\n",
       "$$\n",
       "\\text{Value of option} \\sim e^{-0.05}W(242) \\sim 0.9512*W(242)\n",
       "$$\n",
       "\n"
      ],
      "text/plain": [
       "<IPython.core.display.Markdown object>"
      ]
     },
     "metadata": {},
     "output_type": "display_data"
    }
   ],
   "source": [
    "x111 = np.round(np.log(S_0),3)\n",
    "\n",
    "first_list      = [(j,convert_to_x(j,n_grid),np.exp(convert_to_x(j,n_grid))) for j in range(1,n_grid-1)]\n",
    "first_list_diff = [np.abs(convert_to_x(j,n_grid)-np.log(S_0)) for j in range(1,n_grid-1)]\n",
    "index = np.argmin(first_list_diff) + 0\n",
    "\n",
    "\n",
    "markdown_string = f\"\"\"\n",
    "# Extracting the value of the European put option via PDE solution at time $T_{0}$ = {T_0}.\n",
    "---\n",
    "For the spot price of $S_{{0}} = {S_0}$, we need to extract the value of solution at approximately\n",
    "$$\n",
    "x = \\ln({S_0}) \\sim {np.round(np.log(S_0),4)}\n",
    "$$\n",
    "\n",
    "This roughly corresponds to {index}th component of the solution vector.\n",
    "\n",
    "As $V = e^{{-r\\\\tau}}W$, and the fact that the variables $r = {r}$ and $T_0 = {T_0}$, we need to multiply the result by\n",
    "$$\n",
    "e^{{-r \\\\tau}} \\Rightarrow e^{{-{r*T_0}}}\n",
    "$$\n",
    "Hence the value of the option should be\n",
    "$$\n",
    "\\\\text{{Value of option}} \\sim e^{{-{r*T_0}}}W({index}) \\sim {np.round(np.exp(-r*T_0),4)}*W({index})\n",
    "$$\n",
    "\n",
    "\"\"\"\n",
    "display(Markdown(markdown_string))"
   ]
  },
  {
   "cell_type": "markdown",
   "metadata": {},
   "source": [
    "---\n",
    "Using the analytic solutions to the 1D Black Scholes equation for puts and calls:\n",
    "$$\n",
    "V_{call} = N(d_{+})S_{0}-N(d_{-})Ke^{-rT}\n",
    "$$\n",
    "$$\n",
    "V_{put} = N(-d_{-})Ke^{-rT}-N(-d_{-})S_{0}\n",
    "$$\n",
    "with $d_{-},d_{+}$ defined as :\n",
    "$ d_{+} = \\frac{1}{\\sigma \\sqrt{T}}\\left(\\ln(\\frac{S_{0}}{K})+\\left(r+\\frac{\\sigma^2}{2} \\right)T  \\right); \\quad d_{-} = d_{+} -\\sigma\\sqrt{T}$\n"
   ]
  },
  {
   "cell_type": "code",
   "execution_count": 106,
   "metadata": {},
   "outputs": [
    {
     "name": "stdout",
     "output_type": "stream",
     "text": [
      "-------------------\n",
      "|Numerical Results|\n",
      "-------------------\n",
      "\n",
      "The value of the option with above parameters with proper scheme up to T_0 is   = 15.617997\n",
      "The value of the option with above parameters with improper scheme up to T_0 is = 15.660096\n",
      "\n",
      "------------------\n",
      "|Analytic Results|\n",
      "------------------\n",
      "                                                                                ----\n",
      "The value of the option with above parameters at T_0 is                         = 15.270513\n"
     ]
    }
   ],
   "source": [
    "##Test the value of the option at S=80 with the improper central difference scheme\n",
    "\n",
    "value_prop = np.exp(-r*T_0)*acc_sol_prop[index]\n",
    "value_improp = np.exp(-r*T_0)*acc_sol_improp[index]\n",
    "\n",
    "print(\"-------------------\\n|Numerical Results|\\n-------------------\\n\")\n",
    "print(\"The value of the option with above parameters with proper scheme up to T_0 is   = %f\" % (value_prop))\n",
    "print(\"The value of the option with above parameters with improper scheme up to T_0 is = %f\\n\" % (value_improp))\n",
    "print(\"------------------\\n|Analytic Results|\\n------------------\\n\" + ' '*80 +\"----\")\n",
    "print(\"The value of the option with above parameters at T_0 is                         = %f\" % (bs_op.black_scholes_1D_analytic(S_0,K,r,vol,T_0,'put')))"
   ]
  },
  {
   "cell_type": "code",
   "execution_count": 107,
   "metadata": {},
   "outputs": [
    {
     "data": {
      "text/plain": [
       "np.float64(11.756364280895319)"
      ]
     },
     "execution_count": 107,
     "metadata": {},
     "output_type": "execute_result"
    }
   ],
   "source": [
    "bs_op.black_scholes_1D_analytic(S_0,K,r,vol,Total_life_option,'put')\n"
   ]
  },
  {
   "cell_type": "markdown",
   "metadata": {},
   "source": [
    "## Estimating option value at time $T_{0}+T_{1}$ through inner product of probability vector and option value encoded vector."
   ]
  },
  {
   "cell_type": "code",
   "execution_count": 108,
   "metadata": {},
   "outputs": [
    {
     "name": "stdout",
     "output_type": "stream",
     "text": [
      "-------------------\n",
      "|Numerical Results|\n",
      "-------------------\n",
      "\n",
      "The value of the option estimated by inner product with  proper scheme up to T_0 +T_1 is   = 11.770429\n",
      "The value of the option estimated by inner product with improper scheme up to T_0 + T_1 is = 11.773196\n",
      "\n",
      "------------------\n",
      "|Analytic Results|\n",
      "------------------\n",
      "                                                                                           ----\n",
      "The value of the option with above parameters at T_0 is                                    = 11.756364\n"
     ]
    }
   ],
   "source": [
    "option_estimate_prop = np.exp(-r*(T_0+T_1))*np.dot(pdf_list_grid,acc_sol_prop)*spatial_step\n",
    "option_estimate_improp = np.exp(-r*(T_0+T_1))*np.dot(pdf_list_grid,acc_sol_improp)*spatial_step\n",
    "\n",
    "print(\"-------------------\\n|Numerical Results|\\n-------------------\\n\")\n",
    "print(\"The value of the option estimated by inner product with  proper scheme up to T_0 +T_1 is   = %f\" % (option_estimate_prop))\n",
    "print(\"The value of the option estimated by inner product with improper scheme up to T_0 + T_1 is = %f\\n\" % (option_estimate_improp))\n",
    "print(\"------------------\\n|Analytic Results|\\n------------------\\n\" + ' '*91 +\"----\")\n",
    "print(\"The value of the option with above parameters at T_0 is                                    = %f\" % (bs_op.black_scholes_1D_analytic(S_0,K,r,vol,T_0+T_1,'put')))"
   ]
  }
 ],
 "metadata": {
  "kernelspec": {
   "display_name": "Python 3",
   "language": "python",
   "name": "python3"
  },
  "language_info": {
   "codemirror_mode": {
    "name": "ipython",
    "version": 3
   },
   "file_extension": ".py",
   "mimetype": "text/x-python",
   "name": "python",
   "nbconvert_exporter": "python",
   "pygments_lexer": "ipython3",
   "version": "3.10.12"
  }
 },
 "nbformat": 4,
 "nbformat_minor": 2
}
