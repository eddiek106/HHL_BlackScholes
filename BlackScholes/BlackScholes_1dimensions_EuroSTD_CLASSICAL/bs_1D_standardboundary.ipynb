{
 "cells": [
  {
   "cell_type": "code",
   "execution_count": null,
   "metadata": {},
   "outputs": [],
   "source": [
    "#-*- coding: utf-8 -*-\n",
    "\"\"\"\n",
    "File: bs_1D_standardboundary.ipynb\n",
    "Author: Eddie Kelly\n",
    "Date: 2024\n",
    "\n",
    "This file is part of the Quantum algorithm for linear systems of equations for the multi-dimensional Black-Scholes equations project which was completed as part \n",
    "of the thesis https://mural.maynoothuniversity.ie/id/eprint/19288/.\n",
    "\n",
    "License: MIT License\n",
    "\"\"\"\n",
    "\n",
    "import sys\n",
    "sys.path.append(\"../\")\n",
    "sys.path.append(\"../../\")"
   ]
  },
  {
   "cell_type": "code",
   "execution_count": 67,
   "metadata": {},
   "outputs": [],
   "source": [
    "import numpy as np\n",
    "import matplotlib.pyplot as plt\n",
    "from IPython.display import display, Markdown\n",
    "import bs_differential_op as bs_op \n",
    "from Matrices import matrixmod as mm\n",
    "from lognormal import normal_1D_stock"
   ]
  },
  {
   "cell_type": "markdown",
   "metadata": {},
   "source": [
    "# Consider the Black Scholes equation:\n",
    "$$\n",
    "\\frac{\\partial V}{\\partial t}+\\frac{1}{2}\\sigma^{2}S^{2}\\frac{\\partial^{2}V}{\\partial S^{2}}+rS\\frac{\\partial V}{\\partial S} -rV = 0\n",
    "$$\n",
    "\n",
    "\n",
    "Consider also the boundary and initial conditions for the European put option:\n",
    "$$\n",
    "V(T,S)  = max(K-S,0)\n",
    "$$\n",
    "$$\n",
    "V(t,0) = Ke^{-r(T-t)} \\quad \\forall \\quad t\n",
    "$$\n",
    "$$\n",
    "V(t,S) \\sim 0 \\quad as \\quad S \\rightarrow \\infty\n",
    "$$\n",
    "Where the variables $T$ corresponds to maturity, $ K$ for strike price, $r$ for interest rate, $\\sigma$ for volatility,\n",
    "S for spot or current price and V for the value of the option.\n",
    "\n",
    "---\n",
    "First Substitution\n",
    "---\n",
    "Taking the following variables changes: \n",
    "$$\n",
    "x = \\ln(S) \\qquad \\tau = T-t\n",
    "$$\n",
    "The boundary and initial conditions for the Black-Scholes equation can be transformed using the new variables as follows:\n",
    "\n",
    "1. **Initial condition:**\n",
    "\n",
    "The initial condition for an European put option is given by:\n",
    "\n",
    "$$\n",
    "V(T,S)  = max(K-S,0)\n",
    "$$\n",
    "\n",
    "Using the variable change $x = \\ln(S)$, the initial condition becomes:\n",
    "\n",
    "$$\n",
    "V(\\tau=0, x) = max(K - e^x, 0)\n",
    "$$\n",
    "\n",
    "2. **Boundary conditions:**\n",
    "\n",
    "The boundary conditions are given by:\n",
    "\n",
    "$$\n",
    "V(t,0) = Ke^{-r(T-t)} \\quad \\forall \\quad t\n",
    "$$\n",
    "\n",
    "and\n",
    "\n",
    "$$\n",
    "V(t,S) \\sim 0 \\quad as \\quad S \\rightarrow \\infty\n",
    "$$\n",
    "\n",
    "Using the variable change $x = \\ln(S)$ and $\\tau = T - t$, the boundary conditions become:\n",
    "\n",
    "$$\n",
    "V(\\tau, x=-\\infty) = K e^{-r\\tau}\n",
    "$$\n",
    "\n",
    "and\n",
    "\n",
    "$$\n",
    "V(\\tau, x=\\infty) \\sim 0\n",
    "$$\n",
    "\n",
    "The new Black Scholes differential equation is :\n",
    "$$\n",
    "\\frac{\\partial V}{\\partial\\tau} = \\frac{1}{2}\\sigma^{2}\\frac{\\partial^{2}V}{\\partial x^{2}}+\\left(r-\\frac{\\sigma^{2}}{2}\\right)\\frac{\\partial V}{\\partial x} -rV\n",
    "$$\n",
    "---\n",
    "Second Substituition\n",
    "---\n",
    "Finally for the final substitution $W = e^{r\\tau}V$ , we get the final form of the boundary/initial conditions:\n",
    "If you switch to the variable $W = e^{r\\tau}V$, the boundary and initial conditions for the Black-Scholes equation can be transformed as follows:\n",
    "\n",
    "1. **Initial condition:**\n",
    "\n",
    "The initial condition for an European put option is given by:\n",
    "\n",
    "$$\n",
    "V(\\tau=0, x) = max(K - e^x, 0)\n",
    "$$\n",
    "\n",
    "Using the variable change $W = e^{r\\tau}V$, the initial condition becomes:\n",
    "\n",
    "$$\n",
    "W(\\tau=0, x) =  max(K - e^x, 0)\n",
    "$$\n",
    "\n",
    "2. **Boundary conditions:**\n",
    "\n",
    "The boundary conditions are given by:\n",
    "\n",
    "$$\n",
    "V(\\tau, x=-\\infty) = K e^{-r\\tau}\n",
    "$$\n",
    "\n",
    "and\n",
    "\n",
    "$$\n",
    "V(\\tau, x=\\infty) \\sim 0\n",
    "$$\n",
    "\n",
    "Using the variable change $W = e^{r\\tau}V$, the boundary conditions become:\n",
    "\n",
    "$$\n",
    "W(\\tau, x=-\\infty) = K\n",
    "$$\n",
    "\n",
    "and\n",
    "\n",
    "$$\n",
    "W(\\tau, x=\\infty) \\sim 0\n",
    "$$\n",
    "\n",
    "These transformed conditions can now be used with the second - transformed Black-Scholes equation.\n",
    "$$\n",
    "\\frac{\\partial W}{\\partial \\tau} = \\frac{1}{2}\\sigma^{2}\\frac{\\partial ^{2}W}{\\partial W^{2}}+\\left(r-\\frac{\\sigma^{2}}{2}\\right)\\frac{\\partial W}{\\partial x}\n",
    "$$\n",
    "---\n"
   ]
  },
  {
   "cell_type": "markdown",
   "metadata": {},
   "source": [
    "We know are going to examine the case of two boundary conditions.\n",
    "# Boundary conditions\n",
    "$$\n",
    "\\begin{gather*}\n",
    "\\vec{V}_{1} = \n",
    "\\frac{\\sigma^{2}}{2}\n",
    "    \\begin{pmatrix}\n",
    "     L(t) \\\\\n",
    "     \\vdots \\\\\n",
    "     U(t)\n",
    "     \\end{pmatrix}\n",
    "+\\left(r-\\frac{\\sigma^{2}}{2}\\right)\n",
    "    \\begin{pmatrix}\n",
    "    -L(t) \\\\\n",
    "    \\vdots \\\\\n",
    "    U(t) \\\\\n",
    "    \\end{pmatrix}\n",
    "=\n",
    "    \\begin{pmatrix}\n",
    "    (\\sigma^{2}-r)L(t)\\\\\n",
    "    \\vdots\\\\\n",
    "    rU(t)\\\\\n",
    "    \\end{pmatrix}         \n",
    "\\Rightarrow         \n",
    "    \\begin{pmatrix}\n",
    "    (\\sigma^{2}-r)K\\\\\n",
    "    \\vdots\\\\\n",
    "    0\\\\\n",
    "    \\end{pmatrix}         \n",
    "\\\n",
    "\\end{gather*}\n",
    "$$\n",
    "Here we have used the fact that at $x_{lower}$, $L(t) = K$ and $x_{upper}$, $U(t) = 0$.\n",
    "\n",
    "---"
   ]
  },
  {
   "cell_type": "code",
   "execution_count": 68,
   "metadata": {},
   "outputs": [],
   "source": [
    "#---Define the parameters relating to Black-Scholes model---#\n",
    "S_0 = 80\n",
    "K = 120\n",
    "vol = 0.2\n",
    "r = 0.05\n",
    "T_0 = 1\n",
    "T_1 = 1\n",
    "Total_life_option = T_0 + T_1\n",
    "\n",
    "#---Define the parameters relating to the discretization---#\n",
    "\n",
    "n_grid = 200                    # Internal grid points and the TWO boundary points\n",
    "n_grid_internal = n_grid-2      # Just the internal grid points (excluding the boundary points) ... (This is the number of unknowns)\n",
    "\n",
    "x_lower= -7\n",
    "x_upper= 7\n",
    "spatial_step = (x_upper-x_lower)/(n_grid - 1)  # \n",
    "Num_block = 5\n",
    "Size_block = 5\n",
    "temporal_step = T_0/Num_block                           # We only simulate the PDE up t\n",
    "\n",
    "grid = np.linspace(x_lower+(spatial_step),x_upper - (spatial_step),n_grid_internal)\n",
    "\n",
    "def convert_to_x(j,n_grid):                                         # EDDIE, j is in the interval of integers from [1,N-2]\n",
    "    if j < 1 or j > n_grid-2:\n",
    "\n",
    "        raise ValueError(\"j must be in the interval [1,N-2]\")\n",
    "    \n",
    "    return spatial_step*j + x_lower\n",
    "\n",
    "#--Initial Condition--#\n",
    "\n",
    "V_0_std =np.maximum(K - np.exp(grid),0)\n",
    "\n",
    "#--Boundary Conditions--#\n",
    "\n",
    "V_1_std = np.zeros(n_grid_internal)\n",
    "V_1_std[0] = (vol**2 -r)*K\n",
    "\n",
    "\n"
   ]
  },
  {
   "cell_type": "code",
   "execution_count": 69,
   "metadata": {},
   "outputs": [
    {
     "name": "stdout",
     "output_type": "stream",
     "text": [
      "80_120_0.2_0.05_1_1_2_200_-7_7_0.07_5_5_0.2\n"
     ]
    }
   ],
   "source": [
    "print('_'.join([str(var) for var in [S_0, K, vol, r, T_0, T_1, Total_life_option, n_grid, x_lower, x_upper, np.round(spatial_step,3), Num_block, Size_block, np.round(temporal_step,3)]]))"
   ]
  },
  {
   "cell_type": "code",
   "execution_count": 70,
   "metadata": {},
   "outputs": [
    {
     "data": {
      "text/markdown": [
       "\n",
       "\n",
       "| Parameter | Values |\n",
       "|--------|-------------|\n",
       "|  $S_0$  |   80    |\n",
       "|  $r$  |  0.05    |\n",
       "|  $\\sigma$  |   0.2   |\n",
       "|  $T_0$  |   1   |\n",
       "|  $T_1$  |   1   |\n",
       "| $(x)_{lower}$ | -7 | \n",
       "| $(x)_{upper}$ | 7 |\n",
       "| $N_{gridpoints}$| 200 |\n",
       "| $Spatial Step$ | 0.07 |\n",
       "| $Temporal Step$ | 0.2 |\n",
       "\n",
       "As we are dealing with discretized system we have to place upper and lower limits on the simulation zone. \n",
       "Lower and upper $x$ values that range from -7 to 7 corresponds to stock prices of $e^{-7} \n",
       "\\sim 9.12e-04 $ and\n",
       "$e^{7} \\sim 1.1e+03$ respectively.\n",
       "For the given value of  $S_0$ = 80 , the lower and upper limits are sufficient.\n",
       "\n",
       "---\n"
      ],
      "text/plain": [
       "<IPython.core.display.Markdown object>"
      ]
     },
     "metadata": {},
     "output_type": "display_data"
    }
   ],
   "source": [
    "markdown_string =f'''\n",
    "\n",
    "| Parameter | Values |\n",
    "|--------|-------------|\n",
    "|  $S_{0}$  |   {S_0}    |\n",
    "|  $r$  |  {r}    |\n",
    "|  $\\sigma$  |   {vol}   |\n",
    "|  $T_0$  |   {T_0}   |\n",
    "|  $T_1$  |   {T_1}   |\n",
    "| $(x)_{{lower}}$ | {x_lower} | \n",
    "| $(x)_{{upper}}$ | {x_upper} |\n",
    "| $N_{{gridpoints}}$| {n_grid} |\n",
    "| $Spatial Step$ | {np.round(spatial_step,3)} |\n",
    "| $Temporal Step$ | {np.round(temporal_step,3)} |\n",
    "\n",
    "As we are dealing with discretized system we have to place upper and lower limits on the simulation zone. \n",
    "Lower and upper $x$ values that range from {x_lower} to {x_upper} corresponds to stock prices of $e^{{{x_lower}}} \n",
    "\\sim {np.format_float_scientific(np.exp(x_lower),precision=2)} $ and\n",
    "$e^{{{x_upper}}} \\sim {np.format_float_scientific(np.exp(x_upper),precision=2)}$ respectively.\n",
    "For the given value of  $S_{0}$ = {S_0} , the lower and upper limits are sufficient.\n",
    "\n",
    "---\n",
    "'''\n",
    "display(Markdown(markdown_string))"
   ]
  },
  {
   "cell_type": "code",
   "execution_count": 71,
   "metadata": {},
   "outputs": [
    {
     "name": "stdout",
     "output_type": "stream",
     "text": [
      "(7128,)\n"
     ]
    }
   ],
   "source": [
    "#--Defintion and inversion of improper differential operator with standard boundary conditions--#\n",
    "\n",
    "diff_op_improp = bs_op.black_scholes_1D_improp(n_grid_internal,spatial_step,r,vol)\n",
    "b_vec_std = mm.Bmatrix_independent(Size_block,temporal_step,diff_op_improp,V_0_std,V_1_std)\n",
    "bound_init_vec_std = mm.bound_init_vec(Num_block,Size_block,b_vec_std)\n",
    "\n",
    "print(bound_init_vec_std.shape) # Gut check for matrix size\n",
    "full_sol_improp = np.linalg.solve(mm.matrix_ode_tens(Num_block,Size_block,diff_op_improp,temporal_step),bound_init_vec_std)\n",
    "acc_sol_improp = mm.extractor(Num_block,Size_block,diff_op_improp,full_sol_improp)"
   ]
  },
  {
   "cell_type": "code",
   "execution_count": 72,
   "metadata": {},
   "outputs": [],
   "source": [
    "#--Definition and inversion of proper differential operator with standard boundary conditions--#\n",
    "\n",
    "diff_op_prop = bs_op.black_scholes_1D_prop(n_grid_internal,spatial_step,r,vol)\n",
    "b_vec_std = mm.Bmatrix_independent(Size_block,temporal_step,diff_op_prop,V_0_std,V_1_std)\n",
    "bound_init_vec_std = mm.bound_init_vec(Num_block,Size_block,b_vec_std)\n",
    "\n",
    "full_sol_prop = np.linalg.solve(mm.matrix_ode_tens(Num_block,Size_block,diff_op_prop,temporal_step),bound_init_vec_std)\n",
    "acc_sol_prop = mm.extractor(Num_block,Size_block,diff_op_prop,full_sol_prop)"
   ]
  },
  {
   "cell_type": "markdown",
   "metadata": {},
   "source": [
    "# Plotting"
   ]
  },
  {
   "cell_type": "code",
   "execution_count": 73,
   "metadata": {},
   "outputs": [
    {
     "data": {
      "image/png": "[encoded data removed]",
      "text/plain": [
       "<Figure size 1000x500 with 2 Axes>"
      ]
     },
     "metadata": {},
     "output_type": "display_data"
    }
   ],
   "source": [
    "fig = plt.figure(figsize=(10,5))\n",
    "ylim = max(max(acc_sol_prop),max(acc_sol_improp))\n",
    "\n",
    "ax1 = fig.add_subplot(121)\n",
    "ax1.plot(grid, acc_sol_prop, color='red')\n",
    "ax1.set_ylim(0,ylim)\n",
    "ax1.set_xlabel(r'$x := \\ln(S)$')\n",
    "ax1.set_ylabel(r'$W := e^{r\\tau}V$')\n",
    "# ax1.set_title(r'Plot of $W$ vs $x$ (Proper Scheme) up to $T_{0}$')\n",
    "ax1.grid(True)\n",
    "ax1.text(0.47, -0.15, '(a)', transform=ax1.transAxes, fontsize=12, va='center')\n",
    "ax1.plot(np.log(S_0),1,marker=\"|\",color='black',markersize=10)\n",
    "ax1.annotate(r'$x_{0}=\\ln(S_{0})$', xy=(np.log(S_0), 0), xytext=(np.log(S_0), 0 - 20),\n",
    "             arrowprops=dict(arrowstyle=\"->\",facecolor='black'))\n",
    "\n",
    "ax2 = fig.add_subplot(122)\n",
    "ax2.plot(grid, acc_sol_improp, color='red')  \n",
    "ax2.set_ylim(0,ylim)\n",
    "ax2.set_xlabel(r'$x := \\ln(S)$')\n",
    "ax2.set_ylabel(r'$W := e^{r\\tau}V $', fontsize=10)\n",
    "# ax2.set_title(r'Plot of $W$ vs $x$ (Improper Scheme) up to $T_{0}$')  \n",
    "ax2.grid(True)\n",
    "ax2.text(1.66, -0.15, '(b)', transform=ax1.transAxes, fontsize=12, va='center')\n",
    "ax2.plot(np.log(S_0),1,marker=\"|\",color='black',markersize=10)\n",
    "ax2.annotate(r'$x_{0}=\\ln(S_{0})$', xy=(np.log(S_0), 0), xytext=(np.log(S_0), 0 - 20),\n",
    "             arrowprops=dict(arrowstyle=\"->\",facecolor='black'))\n",
    "\n",
    "plt.tight_layout()  \n",
    "plt.show()"
   ]
  },
  {
   "cell_type": "markdown",
   "metadata": {},
   "source": [
    "As expected with the improper expression for the central second order difference, as we have not specified the extra boundary conditions required at the boundaries, we will get edge effects whereas we do not encounter this artefact with the proper use of the central second order difference."
   ]
  },
  {
   "cell_type": "markdown",
   "metadata": {},
   "source": [
    "## Definition of normal distribution \n",
    "\n",
    "Thus far we have simulated the solution for a time $T_{0}$ We now produce the\n",
    "normla distribution with the parameter $T_{1}$. By taking the appropiately discounted price \n",
    "of the inner productt of these two quantities, we can recover the value of the option."
   ]
  },
  {
   "cell_type": "code",
   "execution_count": 74,
   "metadata": {},
   "outputs": [
    {
     "data": {
      "text/plain": [
       "Text(1.66, -0.15, '(b)')"
      ]
     },
     "execution_count": 74,
     "metadata": {},
     "output_type": "execute_result"
    },
    {
     "data": {
      "image/png": "[encoded data removed]",
      "text/plain": [
       "<Figure size 1000x500 with 2 Axes>"
      ]
     },
     "metadata": {},
     "output_type": "display_data"
    }
   ],
   "source": [
    "pdf_list_grid = []\n",
    "pdf_list_cont = []\n",
    "for i in grid:\n",
    "    pdf_list_grid.append(normal_1D_stock(i,np.log(S_0),r,vol,T_1))\n",
    "for j in np.linspace(x_lower+spatial_step,x_upper,1000):\n",
    "    pdf_list_cont.append(normal_1D_stock(j,np.log(S_0),r,vol,T_1))\n",
    "\n",
    "fig = plt.figure(figsize=(10,5))\n",
    "   \n",
    "ax1 = fig.add_subplot(121)\n",
    "ax1.plot(grid, pdf_list_grid, color='blue')\n",
    "ax1.set_xlabel(r'$x := \\ln(S)$')\n",
    "ax1.set_ylabel(r'$p(x,T_{1})$')\n",
    "# ax1.set_title(r'Plot of $p(x,T_{1})$ continuous')\n",
    "ax1.grid(True)\n",
    "ax1.text(0.47, -0.15, '(a)', transform=ax1.transAxes, fontsize=12, va='center')\n",
    "\n",
    "\n",
    "ax2 = fig.add_subplot(122)\n",
    "ax2.plot(grid, pdf_list_grid, color='blue')\n",
    "ax2.set_xlabel(r'$x := \\ln(S)$')\n",
    "ax2.set_ylabel(r'$p(x,T_{1})$')\n",
    "# ax2.set_title(r'Plot of $p(x,T_{1})$ grid')\n",
    "ax2.grid(True)\n",
    "ax2.text(1.66, -0.15, '(b)', transform=ax1.transAxes, fontsize=12, va='center')\n"
   ]
  },
  {
   "cell_type": "code",
   "execution_count": 75,
   "metadata": {},
   "outputs": [
    {
     "name": "stdout",
     "output_type": "stream",
     "text": [
      "This the len of acc_sol 198\n",
      "[(1, -6.9296482412060305, np.float64(0.0009783449493145587), np.float64(37.223212480577516)), (2, -6.85929648241206, np.float64(0.0010496521216616652), np.float64(68.94597870966105)), (3, -6.788944723618091, np.float64(0.0011261565537602546), np.float64(89.39381844034162)), (4, -6.71859296482412, np.float64(0.0012082370505472695), np.float64(105.2684564674091)), (5, -6.648241206030151, np.float64(0.0012963000263513502), np.float64(111.72639614343434)), (6, -6.577889447236181, np.float64(0.0013907815172174856), np.float64(117.33483290081777)), (7, -6.507537688442211, np.float64(0.0014921493399009667), np.float64(118.21429600829694)), (8, -6.437185929648241, np.float64(0.0016009054082207182), np.float64(119.80448945468974)), (9, -6.366834170854271, np.float64(0.0017175882182412418), np.float64(119.64713489874448)), (10, -6.296482412060302, np.float64(0.001842775514588297), np.float64(120.0422053236681)), (11, -6.226130653266331, np.float64(0.0019770871511003863), np.float64(119.93266521317607)), (12, -6.155778894472362, np.float64(0.0021211881599802664), np.float64(120.0152541264768)), (13, -6.085427135678392, np.float64(0.00227579204464316), np.float64(119.98742157407426)), (14, -6.015075376884422, np.float64(0.002441664312565879), np.float64(120.00045526983173)), (15, -5.944723618090452, np.float64(0.002619626265629463), np.float64(119.99607340672837)), (16, -5.874371859296483, np.float64(0.0028105590667228996), np.float64(119.99736066737782)), (17, -5.8040201005025125, np.float64(0.003015408102743318), np.float64(119.99673843451397)), (18, -5.733668341708543, np.float64(0.0032351876655956863), np.float64(119.99661922445736)), (19, -5.663316582914573, np.float64(0.0034709859743695913), np.float64(119.99634644334174)), (20, -5.592964824120603, np.float64(0.0037239705635599015), np.float64(119.9960857428536)), (21, -5.522613065326633, np.float64(0.003995394064010701), np.float64(119.9957994941656)), (22, -5.452261306532663, np.float64(0.004286600405206225), np.float64(119.99549348727876)), (23, -5.381909547738694, np.float64(0.0045990314696190025), np.float64(119.99516500995254)), (24, -5.311557788944723, np.float64(0.004934234232063527), np.float64(119.99481261108043)), (25, -5.241206030150754, np.float64(0.005293868419405374), np.float64(119.99443452546058)), (26, -5.170854271356784, np.float64(0.005679714728552177), np.float64(119.99402888300695)), (27, -5.100502512562814, np.float64(0.006093683643417042), np.float64(119.99359367508887)), (28, -5.030150753768844, np.float64(0.006537824894510856), np.float64(119.99312674681897)), (29, -4.959798994974874, np.float64(0.007014337608001843), np.float64(119.99262578624311)), (30, -4.889447236180905, np.float64(0.00752558119449452), np.float64(119.99208831289934)), (31, -4.819095477386934, np.float64(0.008074087031442861), np.float64(119.99151166553585)), (32, -4.748743718592965, np.float64(0.008662570997042108), np.float64(119.9908929889341)), (33, -4.678391959798995, np.float64(0.00929394691765977), np.float64(119.99022921977162)), (34, -4.608040201005025, np.float64(0.009971340995389448), np.float64(119.98951707145396)), (35, -4.5376884422110555, np.float64(0.010698107287164296), np.float64(119.98875301784179)), (36, -4.467336683417086, np.float64(0.011477844312073675), np.float64(119.98793327579098)), (37, -4.396984924623116, np.float64(0.012314412869112489), np.float64(119.98705378642133)), (38, -4.326633165829145, np.float64(0.013211955153586327), np.float64(119.98611019501878)), (39, -4.256281407035176, np.float64(0.014174915266825591), np.float64(119.98509782947391)), (40, -4.185929648241206, np.float64(0.015208061220760663), np.float64(119.98401167714817)), (41, -4.115577889447236, np.float64(0.01631650854631174), np.float64(119.98284636005431)), (42, -4.045226130653266, np.float64(0.01750574562248822), np.float64(119.98159610822766)), (43, -3.9748743718592965, np.float64(0.0187816608516126), np.float64(119.9802547311567)), (44, -3.9045226130653266, np.float64(0.0201505718152243), np.float64(119.97881558713144)), (45, -3.8341708542713566, np.float64(0.021619256555026587), np.float64(119.97727155035737)), (46, -3.763819095477387, np.float64(0.02319498713376126), np.float64(119.97561497567274)), (47, -3.693467336683417, np.float64(0.02488556564218491), np.float64(119.97383766069443)), (48, -3.6231155778894473, np.float64(0.026699362830432012), np.float64(119.97193080520437)), (49, -3.5527638190954773, np.float64(0.028645359555044735), np.float64(119.9698849675758)), (50, -3.4824120603015074, np.float64(0.030733191246890723), np.float64(119.96769001802473)), (51, -3.412060301507538, np.float64(0.03297319562014781), np.float64(119.96533508845222)), (52, -3.341708542713568, np.float64(0.03537646385858254), np.float64(119.96280851863267)), (53, -3.271356783919598, np.float64(0.03795489553256673), np.float64(119.96009779847854)), (54, -3.201005025125628, np.float64(0.04072125751874892), np.float64(119.9571895060988)), (55, -3.130653266331658, np.float64(0.04368924721411629), np.float64(119.95406924134036)), (56, -3.0603015075376883, np.float64(0.046873560357445714), np.float64(119.95072155448817)), (57, -2.9899497487437188, np.float64(0.050289963793956095), np.float64(119.94712986976636)), (58, -2.9195979899497484, np.float64(0.05395537354344966), np.float64(119.94327640326533)), (59, -2.849246231155779, np.float64(0.05788793855848936), np.float64(119.93914207488628)), (60, -2.7788944723618094, np.float64(0.06210713058733447), np.float64(119.93470641386732)), (61, -2.708542713567839, np.float64(0.06663384058658177), np.float64(119.92994745742487)), (62, -2.6381909547738696, np.float64(0.0714904821608914), np.float64(119.92484164200647)), (63, -2.567839195979899, np.float64(0.0767011025419707), np.float64(119.91936368661807)), (64, -2.4974874371859297, np.float64(0.08229150165631703), np.float64(119.91348646764759)), (65, -2.42713567839196, np.float64(0.08828935987127516), np.float64(119.90718088456451)), (66, -2.35678391959799, np.float64(0.09472437505193056), np.float64(119.90041571583126)), (67, -2.2864321608040203, np.float64(0.10162840960746455), np.float64(119.89315746431244)), (68, -2.21608040201005, np.float64(0.10903564825505918), np.float64(119.88537019141688)), (69, -2.1457286432160805, np.float64(0.1169827672825036), np.float64(119.8770153391509)), (70, -2.075376884422111, np.float64(0.12550911614759372), np.float64(119.8680515392014)), (71, -2.0050251256281406, np.float64(0.13465691231349589), np.float64(119.85843440810497)), (72, -1.9346733668341711, np.float64(0.1444714502847859), np.float64(119.84811632748652)), (73, -1.8643216080402008, np.float64(0.1550013258791877), np.float64(119.83704620828141)), (74, -1.7939698492462313, np.float64(0.16629867684547087), np.float64(119.82516923777239)), (75, -1.7236180904522618, np.float64(0.17841944101890855), np.float64(119.81242660818916)), (76, -1.6532663316582914, np.float64(0.19142363329252668), np.float64(119.79875522552707)), (77, -1.582914572864322, np.float64(0.20537564277554451), np.float64(119.78408739714263)), (78, -1.5125628140703515, np.float64(0.22034455161036176), np.float64(119.7683504965795)), (79, -1.442211055276382, np.float64(0.23640447702668235), np.float64(119.75146660396459)), (80, -1.3718592964824126, np.float64(0.2536349383264309), np.float64(119.7333521201953)), (81, -1.3015075376884422, np.float64(0.2721212506165509), np.float64(119.71391735300553)), (82, -1.2311557788944727, np.float64(0.2919549472392187), np.float64(119.69306607286244)), (83, -1.1608040201005023, np.float64(0.3132342329911031), np.float64(119.67069503649445)), (84, -1.0904522613065328, np.float64(0.33606447037573806), np.float64(119.64669347569128)), (85, -1.0201005025125625, np.float64(0.3605587012966532), np.float64(119.62094254884506)), (86, -0.949748743718593, np.float64(0.3868382067743705), np.float64(119.59331475251628)), (87, -0.8793969849246235, np.float64(0.4150331074586651), np.float64(119.56367329011216)), (88, -0.8090452261306531, np.float64(0.44528300790946695), np.float64(119.53187139455022)), (89, -0.7386934673366836, np.float64(0.47773768783650467), np.float64(119.49775160155416)), (90, -0.6683417085427132, np.float64(0.5125578437203092), np.float64(119.461144969983)), (91, -0.5979899497487438, np.float64(0.5499158844866378), np.float64(119.42187024533459)), (92, -0.5276381909547743, np.float64(0.5899967851740412), np.float64(119.37973296227932)), (93, -0.4572864321608039, np.float64(0.6329990028214258), np.float64(119.3345244817828)), (94, -0.3869346733668344, np.float64(0.6791354591105467), np.float64(119.28602095804757)), (95, -0.316582914572864, np.float64(0.7286345946289094), np.float64(119.23398223016088)), (96, -0.24623115577889454, np.float64(0.781741499973153), np.float64(119.17815063295873)), (97, -0.17587939698492505, np.float64(0.8387191292934916), np.float64(119.11824972121997)), (98, -0.10552763819095468, np.float64(0.8998496022879579), np.float64(119.05398290087187)), (99, -0.03517587939698519, np.float64(0.9654356010931616), np.float64(118.98503196043097)), (100, 0.03517587939698519, np.float64(1.0358018689881554), np.float64(118.91105549540704)), (101, 0.10552763819095468, np.float64(1.1112968183320855), np.float64(118.83168721786863)), (102, 0.17587939698492416, np.float64(1.1922942556972143), np.float64(118.74653414280137)), (103, 0.24623115577889454, np.float64(1.2791952327391376), np.float64(118.65517464227634)), (104, 0.316582914572864, np.float64(1.3724300319686247), np.float64(118.55715635779802)), (105, 0.3869346733668344, np.float64(1.472460297257464), np.float64(118.45199396048952)), (106, 0.4572864321608039, np.float64(1.5797813196273047), np.float64(118.33916674803139)), (107, 0.5276381909547734, np.float64(1.694924489639401), np.float64(118.21811606644819)), (108, 0.5979899497487438, np.float64(1.8184599285280307), np.float64(118.08824254398431)), (109, 0.6683417085427132, np.float64(1.9509993111054145), np.float64(117.94890312336632)), (110, 0.7386934673366836, np.float64(2.0931988944155235), np.float64(117.79940787776287)), (111, 0.8090452261306531, np.float64(2.2457627671328426), np.float64(117.63901659467194)), (112, 0.8793969849246235, np.float64(2.4094463357952574), np.float64(117.46693511082485)), (113, 0.949748743718593, np.float64(2.585060065132775), np.float64(117.28231137995634)), (114, 1.0201005025125625, np.float64(2.773473491012051), np.float64(117.08423125397314)), (115, 1.0904522613065328, np.float64(2.9756195258664104), np.float64(116.87171395663046)), (116, 1.1608040201005032, np.float64(3.1924990779293405), np.float64(116.64370722730467)), (117, 1.2311557788944718, np.float64(3.425186007143186), np.float64(116.39908211081836)), (118, 1.3015075376884422, np.float64(3.6748324422818093), np.float64(116.13662736751792)), (119, 1.3718592964824126, np.float64(3.9426744856143956), np.float64(115.85504347592789)), (120, 1.4422110552763812, np.float64(4.230038333356656), np.float64(115.55293619828478)), (121, 1.5125628140703515, np.float64(4.538346842214249), np.float64(115.22880967709237)), (122, 1.582914572864322, np.float64(4.869126574532025), np.float64(114.88105902851512)), (123, 1.6532663316582905, np.float64(5.224015356932627), np.float64(114.50796239593775)), (124, 1.7236180904522609, np.float64(5.604770389870356), np.float64(114.10767242434433)), (125, 1.7939698492462313, np.float64(6.0132769482539326), np.float64(113.67820711330327)), (126, 1.8643216080402016, np.float64(6.451557716218689), np.float64(113.21744000326683)), (127, 1.9346733668341702, np.float64(6.921782802268359), np.float64(112.72308964659513)), (128, 2.0050251256281406, np.float64(7.426280484375668), np.float64(112.1927083111692)), (129, 2.075376884422111, np.float64(7.967548738244957), np.float64(111.62366986066193)), (130, 2.1457286432160796, np.float64(8.548267605818237), np.float64(111.01315675145585)), (131, 2.21608040201005, np.float64(9.171312465266153), np.float64(110.35814608182515)), (132, 2.2864321608040203, np.float64(9.83976826816889), np.float64(109.65539462430436)), (133, 2.3567839195979907, np.float64(10.55694481438144), np.float64(108.90142276713446)), (134, 2.4271356783919593, np.float64(11.326393140215167), np.float64(108.09249728527233)), (135, 2.4974874371859297, np.float64(12.151923101080461), np.float64(107.22461285565728)), (136, 2.5678391959799, np.float64(13.037622235649126), np.float64(106.29347222520688)), (137, 2.6381909547738687, np.float64(13.98787600494105), np.float64(105.29446493334906)), (138, 2.708542713567839, np.float64(15.007389506547108), np.float64(104.22264448373282)), (139, 2.7788944723618094, np.float64(16.101210771504075), np.float64(103.0727038520893)), (140, 2.849246231155778, np.float64(17.274755759174422), np.float64(101.83894920896957)), (141, 2.9195979899497484, np.float64(18.53383517389072), np.float64(100.51527172725129)), (142, 2.9899497487437188, np.float64(19.884683236144646), np.float64(99.09511733482064)), (143, 3.060301507537689, np.float64(21.33398855077912), np.float64(97.57145426266628)), (144, 3.1306532663316577, np.float64(22.888927225024215), np.float64(95.93673822764222)), (145, 3.201005025125628, np.float64(24.557198400358313), np.float64(94.18287507837547)), (146, 3.2713567839195985, np.float64(26.34706237412675), np.float64(92.30118071056128)), (147, 3.341708542713567, np.float64(28.26738149967448), np.float64(90.28233812518737)), (148, 3.4120603015075375, np.float64(30.3276640675059), np.float64(88.11635093983394)), (149, 3.482412060301508, np.float64(32.538111384745), np.float64(85.79249584297867)), (150, 3.5527638190954764, np.float64(34.90966828600652), np.float64(83.29926048182243)), (151, 3.623115577889447, np.float64(37.45407732577785), np.float64(80.62432398229252)), (152, 3.693467336683417, np.float64(40.183936920639816), np.float64(77.7543609441798)), (153, 3.7638190954773876, np.float64(43.11276372921368), np.float64(74.67542271869043)), (154, 3.834170854271356, np.float64(46.255059578702046), np.float64(71.3715813506102)), (155, 3.9045226130653266, np.float64(49.62638326940544), np.float64(67.82833655133695)), (156, 3.974874371859297, np.float64(53.24342761274705), np.float64(64.02444864083174)), (157, 4.0452261306532655, np.float64(57.12410208425397), np.float64(59.950069010347576)), (158, 4.115577889447236, np.float64(61.28762150074347), np.float64(55.57278300345938)), (159, 4.185929648241206, np.float64(65.75460116079036), np.float64(50.90180713967884)), (160, 4.256281407035175, np.float64(70.54715891955696), np.float64(45.89495058810045)), (161, 4.326633165829145, np.float64(75.68902470339935), np.float64(40.607903582200706)), (162, 4.396984924623116, np.float64(81.20565800650071), np.float64(35.03639174749824)), (163, 4.467336683417086, np.float64(87.12437395130797), np.float64(29.31847333919696)), (164, 4.537688442211055, np.float64(93.47447853694736), np.float64(23.604942233787128)), (165, 4.608040201005025, np.float64(100.28741374529066), np.float64(18.104939932326737)), (166, 4.678391959798995, np.float64(107.59691322314993), np.float64(13.179547557897308)), (167, 4.748743718592964, np.float64(115.43916931144989), np.float64(8.923106696469432)), (168, 4.819095477386934, np.float64(123.8530122484074), np.float64(5.713824003072909)), (169, 4.889447236180905, np.float64(132.88010243402445), np.float64(3.2882567271754297)), (170, 4.959798994974875, np.float64(142.56513670787916), np.float64(1.8415353129351517)), (171, 5.030150753768844, np.float64(152.9560696615778), np.float64(0.8623150132949322)), (172, 5.100502512562814, np.float64(164.10435108167982), np.float64(0.44146741186377697)), (173, 5.170854271356784, np.float64(176.06518069876924), np.float64(0.15221666804095235)), (174, 5.241206030150753, np.float64(188.89778150404476), np.float64(0.08375963083081867)), (175, 5.311557788944723, np.float64(202.66569298672994), np.float64(0.014655063522806131)), (176, 5.381909547738694, np.float64(217.43708574423889), np.float64(0.014261859950700747)), (177, 5.452261306532662, np.float64(233.28509902286774), np.float64(-0.00062074163916721)), (178, 5.522613065326633, np.float64(250.28820286031285), np.float64(0.0023635548563852742)), (179, 5.592964824120603, np.float64(268.53058662312776), np.float64(-0.0005099414321616481)), (180, 5.6633165829145735, np.float64(288.1025758629357), np.float64(0.0003496188277131469)), (181, 5.733668341708542, np.float64(309.1010795554179), np.float64(-9.625887835238063e-05)), (182, 5.8040201005025125, np.float64(331.630069936548), np.float64(3.9765685396050675e-05)), (183, 5.874371859296483, np.float64(355.8010973119295), np.float64(-1.0421703914390415e-05)), (184, 5.9447236180904515, np.float64(381.7338423882812), np.float64(3.1246636348846915e-06)), (185, 6.015075376884422, np.float64(409.5567088618857), np.float64(-6.917908034928036e-07)), (186, 6.085427135678392, np.float64(439.407459198144), np.float64(1.55930448112959e-07)), (187, 6.155778894472361, np.float64(471.43389675025446), np.float64(-2.6926008771448444e-08)), (188, 6.226130653266331, np.float64(505.79459759446144), np.float64(4.434766936293874e-09)), (189, 6.296482412060302, np.float64(542.659695705483), np.float64(-5.387592931196897e-10)), (190, 6.366834170854272, np.float64(582.2117253598598), np.float64(5.923107476034945e-11)), (191, 6.4371859296482405, np.float64(624.6465249382981), np.float64(-4.009781166385776e-12)), (192, 6.507537688442211, np.float64(670.1742066021151), np.float64(2.303278709062119e-13)), (193, 6.577889447236181, np.float64(719.0201966450375), np.float64(-5.9034957324511784e-24)), (194, 6.64824120603015, np.float64(771.4263516715831), np.float64(1.3427376454449935e-24)), (195, 6.71859296482412, np.float64(827.6521561286763), np.float64(4.0055860009264103e-25)), (196, 6.788944723618091, np.float64(887.9760071199553), np.float64(-3.9916362035454268e-25)), (197, 6.859296482412061, np.float64(952.6965928644416), np.float64(4.9945467560048015e-26)), (198, 6.92964824120603, np.float64(1022.1343716248672), np.float64(2.3037537889747326e-25))]\n",
      "---\n",
      "---\n",
      "----\n",
      "0.0009783449493145587 114.14655259513637\n",
      "---\n",
      "[(1, -6.9296482412060305, np.float64(0.0009783449493145587)), (2, -6.85929648241206, np.float64(0.0010496521216616652)), (3, -6.788944723618091, np.float64(0.0011261565537602546)), (4, -6.71859296482412, np.float64(0.0012082370505472695)), (5, -6.648241206030151, np.float64(0.0012963000263513502)), (6, -6.577889447236181, np.float64(0.0013907815172174856)), (7, -6.507537688442211, np.float64(0.0014921493399009667)), (8, -6.437185929648241, np.float64(0.0016009054082207182)), (9, -6.366834170854271, np.float64(0.0017175882182412418)), (10, -6.296482412060302, np.float64(0.001842775514588297)), (11, -6.226130653266331, np.float64(0.0019770871511003863)), (12, -6.155778894472362, np.float64(0.0021211881599802664)), (13, -6.085427135678392, np.float64(0.00227579204464316)), (14, -6.015075376884422, np.float64(0.002441664312565879)), (15, -5.944723618090452, np.float64(0.002619626265629463)), (16, -5.874371859296483, np.float64(0.0028105590667228996)), (17, -5.8040201005025125, np.float64(0.003015408102743318)), (18, -5.733668341708543, np.float64(0.0032351876655956863)), (19, -5.663316582914573, np.float64(0.0034709859743695913)), (20, -5.592964824120603, np.float64(0.0037239705635599015)), (21, -5.522613065326633, np.float64(0.003995394064010701)), (22, -5.452261306532663, np.float64(0.004286600405206225)), (23, -5.381909547738694, np.float64(0.0045990314696190025)), (24, -5.311557788944723, np.float64(0.004934234232063527)), (25, -5.241206030150754, np.float64(0.005293868419405374)), (26, -5.170854271356784, np.float64(0.005679714728552177)), (27, -5.100502512562814, np.float64(0.006093683643417042)), (28, -5.030150753768844, np.float64(0.006537824894510856)), (29, -4.959798994974874, np.float64(0.007014337608001843)), (30, -4.889447236180905, np.float64(0.00752558119449452)), (31, -4.819095477386934, np.float64(0.008074087031442861)), (32, -4.748743718592965, np.float64(0.008662570997042108)), (33, -4.678391959798995, np.float64(0.00929394691765977)), (34, -4.608040201005025, np.float64(0.009971340995389448)), (35, -4.5376884422110555, np.float64(0.010698107287164296)), (36, -4.467336683417086, np.float64(0.011477844312073675)), (37, -4.396984924623116, np.float64(0.012314412869112489)), (38, -4.326633165829145, np.float64(0.013211955153586327)), (39, -4.256281407035176, np.float64(0.014174915266825591)), (40, -4.185929648241206, np.float64(0.015208061220760663)), (41, -4.115577889447236, np.float64(0.01631650854631174)), (42, -4.045226130653266, np.float64(0.01750574562248822)), (43, -3.9748743718592965, np.float64(0.0187816608516126)), (44, -3.9045226130653266, np.float64(0.0201505718152243)), (45, -3.8341708542713566, np.float64(0.021619256555026587)), (46, -3.763819095477387, np.float64(0.02319498713376126)), (47, -3.693467336683417, np.float64(0.02488556564218491)), (48, -3.6231155778894473, np.float64(0.026699362830432012)), (49, -3.5527638190954773, np.float64(0.028645359555044735)), (50, -3.4824120603015074, np.float64(0.030733191246890723)), (51, -3.412060301507538, np.float64(0.03297319562014781)), (52, -3.341708542713568, np.float64(0.03537646385858254)), (53, -3.271356783919598, np.float64(0.03795489553256673)), (54, -3.201005025125628, np.float64(0.04072125751874892)), (55, -3.130653266331658, np.float64(0.04368924721411629)), (56, -3.0603015075376883, np.float64(0.046873560357445714)), (57, -2.9899497487437188, np.float64(0.050289963793956095)), (58, -2.9195979899497484, np.float64(0.05395537354344966)), (59, -2.849246231155779, np.float64(0.05788793855848936)), (60, -2.7788944723618094, np.float64(0.06210713058733447)), (61, -2.708542713567839, np.float64(0.06663384058658177)), (62, -2.6381909547738696, np.float64(0.0714904821608914)), (63, -2.567839195979899, np.float64(0.0767011025419707)), (64, -2.4974874371859297, np.float64(0.08229150165631703)), (65, -2.42713567839196, np.float64(0.08828935987127516)), (66, -2.35678391959799, np.float64(0.09472437505193056)), (67, -2.2864321608040203, np.float64(0.10162840960746455)), (68, -2.21608040201005, np.float64(0.10903564825505918)), (69, -2.1457286432160805, np.float64(0.1169827672825036)), (70, -2.075376884422111, np.float64(0.12550911614759372)), (71, -2.0050251256281406, np.float64(0.13465691231349589)), (72, -1.9346733668341711, np.float64(0.1444714502847859)), (73, -1.8643216080402008, np.float64(0.1550013258791877)), (74, -1.7939698492462313, np.float64(0.16629867684547087)), (75, -1.7236180904522618, np.float64(0.17841944101890855)), (76, -1.6532663316582914, np.float64(0.19142363329252668)), (77, -1.582914572864322, np.float64(0.20537564277554451)), (78, -1.5125628140703515, np.float64(0.22034455161036176)), (79, -1.442211055276382, np.float64(0.23640447702668235)), (80, -1.3718592964824126, np.float64(0.2536349383264309)), (81, -1.3015075376884422, np.float64(0.2721212506165509)), (82, -1.2311557788944727, np.float64(0.2919549472392187)), (83, -1.1608040201005023, np.float64(0.3132342329911031)), (84, -1.0904522613065328, np.float64(0.33606447037573806)), (85, -1.0201005025125625, np.float64(0.3605587012966532)), (86, -0.949748743718593, np.float64(0.3868382067743705)), (87, -0.8793969849246235, np.float64(0.4150331074586651)), (88, -0.8090452261306531, np.float64(0.44528300790946695)), (89, -0.7386934673366836, np.float64(0.47773768783650467)), (90, -0.6683417085427132, np.float64(0.5125578437203092)), (91, -0.5979899497487438, np.float64(0.5499158844866378)), (92, -0.5276381909547743, np.float64(0.5899967851740412)), (93, -0.4572864321608039, np.float64(0.6329990028214258)), (94, -0.3869346733668344, np.float64(0.6791354591105467)), (95, -0.316582914572864, np.float64(0.7286345946289094)), (96, -0.24623115577889454, np.float64(0.781741499973153)), (97, -0.17587939698492505, np.float64(0.8387191292934916)), (98, -0.10552763819095468, np.float64(0.8998496022879579)), (99, -0.03517587939698519, np.float64(0.9654356010931616)), (100, 0.03517587939698519, np.float64(1.0358018689881554)), (101, 0.10552763819095468, np.float64(1.1112968183320855)), (102, 0.17587939698492416, np.float64(1.1922942556972143)), (103, 0.24623115577889454, np.float64(1.2791952327391376)), (104, 0.316582914572864, np.float64(1.3724300319686247)), (105, 0.3869346733668344, np.float64(1.472460297257464)), (106, 0.4572864321608039, np.float64(1.5797813196273047)), (107, 0.5276381909547734, np.float64(1.694924489639401)), (108, 0.5979899497487438, np.float64(1.8184599285280307)), (109, 0.6683417085427132, np.float64(1.9509993111054145)), (110, 0.7386934673366836, np.float64(2.0931988944155235)), (111, 0.8090452261306531, np.float64(2.2457627671328426)), (112, 0.8793969849246235, np.float64(2.4094463357952574)), (113, 0.949748743718593, np.float64(2.585060065132775)), (114, 1.0201005025125625, np.float64(2.773473491012051)), (115, 1.0904522613065328, np.float64(2.9756195258664104)), (116, 1.1608040201005032, np.float64(3.1924990779293405)), (117, 1.2311557788944718, np.float64(3.425186007143186)), (118, 1.3015075376884422, np.float64(3.6748324422818093)), (119, 1.3718592964824126, np.float64(3.9426744856143956)), (120, 1.4422110552763812, np.float64(4.230038333356656)), (121, 1.5125628140703515, np.float64(4.538346842214249)), (122, 1.582914572864322, np.float64(4.869126574532025)), (123, 1.6532663316582905, np.float64(5.224015356932627)), (124, 1.7236180904522609, np.float64(5.604770389870356)), (125, 1.7939698492462313, np.float64(6.0132769482539326)), (126, 1.8643216080402016, np.float64(6.451557716218689)), (127, 1.9346733668341702, np.float64(6.921782802268359)), (128, 2.0050251256281406, np.float64(7.426280484375668)), (129, 2.075376884422111, np.float64(7.967548738244957)), (130, 2.1457286432160796, np.float64(8.548267605818237)), (131, 2.21608040201005, np.float64(9.171312465266153)), (132, 2.2864321608040203, np.float64(9.83976826816889)), (133, 2.3567839195979907, np.float64(10.55694481438144)), (134, 2.4271356783919593, np.float64(11.326393140215167)), (135, 2.4974874371859297, np.float64(12.151923101080461)), (136, 2.5678391959799, np.float64(13.037622235649126)), (137, 2.6381909547738687, np.float64(13.98787600494105)), (138, 2.708542713567839, np.float64(15.007389506547108)), (139, 2.7788944723618094, np.float64(16.101210771504075)), (140, 2.849246231155778, np.float64(17.274755759174422)), (141, 2.9195979899497484, np.float64(18.53383517389072)), (142, 2.9899497487437188, np.float64(19.884683236144646)), (143, 3.060301507537689, np.float64(21.33398855077912)), (144, 3.1306532663316577, np.float64(22.888927225024215)), (145, 3.201005025125628, np.float64(24.557198400358313)), (146, 3.2713567839195985, np.float64(26.34706237412675)), (147, 3.341708542713567, np.float64(28.26738149967448)), (148, 3.4120603015075375, np.float64(30.3276640675059)), (149, 3.482412060301508, np.float64(32.538111384745)), (150, 3.5527638190954764, np.float64(34.90966828600652)), (151, 3.623115577889447, np.float64(37.45407732577785)), (152, 3.693467336683417, np.float64(40.183936920639816)), (153, 3.7638190954773876, np.float64(43.11276372921368)), (154, 3.834170854271356, np.float64(46.255059578702046)), (155, 3.9045226130653266, np.float64(49.62638326940544)), (156, 3.974874371859297, np.float64(53.24342761274705)), (157, 4.0452261306532655, np.float64(57.12410208425397)), (158, 4.115577889447236, np.float64(61.28762150074347)), (159, 4.185929648241206, np.float64(65.75460116079036)), (160, 4.256281407035175, np.float64(70.54715891955696)), (161, 4.326633165829145, np.float64(75.68902470339935)), (162, 4.396984924623116, np.float64(81.20565800650071)), (163, 4.467336683417086, np.float64(87.12437395130797)), (164, 4.537688442211055, np.float64(93.47447853694736)), (165, 4.608040201005025, np.float64(100.28741374529066)), (166, 4.678391959798995, np.float64(107.59691322314993)), (167, 4.748743718592964, np.float64(115.43916931144989)), (168, 4.819095477386934, np.float64(123.8530122484074)), (169, 4.889447236180905, np.float64(132.88010243402445)), (170, 4.959798994974875, np.float64(142.56513670787916)), (171, 5.030150753768844, np.float64(152.9560696615778)), (172, 5.100502512562814, np.float64(164.10435108167982)), (173, 5.170854271356784, np.float64(176.06518069876924)), (174, 5.241206030150753, np.float64(188.89778150404476)), (175, 5.311557788944723, np.float64(202.66569298672994)), (176, 5.381909547738694, np.float64(217.43708574423889)), (177, 5.452261306532662, np.float64(233.28509902286774)), (178, 5.522613065326633, np.float64(250.28820286031285)), (179, 5.592964824120603, np.float64(268.53058662312776)), (180, 5.6633165829145735, np.float64(288.1025758629357)), (181, 5.733668341708542, np.float64(309.1010795554179)), (182, 5.8040201005025125, np.float64(331.630069936548)), (183, 5.874371859296483, np.float64(355.8010973119295)), (184, 5.9447236180904515, np.float64(381.7338423882812)), (185, 6.015075376884422, np.float64(409.5567088618857)), (186, 6.085427135678392, np.float64(439.407459198144)), (187, 6.155778894472361, np.float64(471.43389675025446)), (188, 6.226130653266331, np.float64(505.79459759446144)), (189, 6.296482412060302, np.float64(542.659695705483)), (190, 6.366834170854272, np.float64(582.2117253598598)), (191, 6.4371859296482405, np.float64(624.6465249382981)), (192, 6.507537688442211, np.float64(670.1742066021151)), (193, 6.577889447236181, np.float64(719.0201966450375)), (194, 6.64824120603015, np.float64(771.4263516715831)), (195, 6.71859296482412, np.float64(827.6521561286763)), (196, 6.788944723618091, np.float64(887.9760071199553)), (197, 6.859296482412061, np.float64(952.6965928644416)), (198, 6.92964824120603, np.float64(1022.1343716248672))]\n",
      "[np.float64(11.311674875879913), np.float64(11.24132311708594), np.float64(11.170971358291972), np.float64(11.100619599498001), np.float64(11.030267840704031), np.float64(10.959916081910063), np.float64(10.889564323116092), np.float64(10.819212564322122), np.float64(10.748860805528153), np.float64(10.678509046734183), np.float64(10.608157287940212), np.float64(10.537805529146244), np.float64(10.467453770352273), np.float64(10.397102011558303), np.float64(10.326750252764334), np.float64(10.256398493970364), np.float64(10.186046735176394), np.float64(10.115694976382425), np.float64(10.045343217588453), np.float64(9.974991458794484), np.float64(9.904639700000514), np.float64(9.834287941206544), np.float64(9.763936182412575), np.float64(9.693584423618605), np.float64(9.623232664824634), np.float64(9.552880906030666), np.float64(9.482529147236695), np.float64(9.412177388442725), np.float64(9.341825629648756), np.float64(9.271473870854786), np.float64(9.201122112060816), np.float64(9.130770353266847), np.float64(9.060418594472877), np.float64(8.990066835678906), np.float64(8.919715076884938), np.float64(8.849363318090967), np.float64(8.779011559296997), np.float64(8.708659800503026), np.float64(8.638308041709056), np.float64(8.567956282915087), np.float64(8.497604524121117), np.float64(8.427252765327147), np.float64(8.356901006533178), np.float64(8.286549247739208), np.float64(8.216197488945237), np.float64(8.145845730151269), np.float64(8.075493971357298), np.float64(8.005142212563328), np.float64(7.9347904537693585), np.float64(7.864438694975389), np.float64(7.794086936181419), np.float64(7.723735177387449), np.float64(7.65338341859348), np.float64(7.583031659799509), np.float64(7.512679901005539), np.float64(7.4423281422115695), np.float64(7.3719763834176), np.float64(7.30162462462363), np.float64(7.23127286582966), np.float64(7.160921107035691), np.float64(7.09056934824172), np.float64(7.020217589447751), np.float64(6.94986583065378), np.float64(6.879514071859811), np.float64(6.809162313065841), np.float64(6.738810554271871), np.float64(6.6684587954779015), np.float64(6.598107036683931), np.float64(6.527755277889962), np.float64(6.457403519095992), np.float64(6.387051760302022), np.float64(6.316700001508052), np.float64(6.246348242714082), np.float64(6.1759964839201125), np.float64(6.105644725126143), np.float64(6.035292966332173), np.float64(5.964941207538203), np.float64(5.894589448744233), np.float64(5.824237689950263), np.float64(5.753885931156294), np.float64(5.683534172362323), np.float64(5.613182413568354), np.float64(5.5428306547743835), np.float64(5.472478895980414), np.float64(5.402127137186444), np.float64(5.331775378392474), np.float64(5.261423619598505), np.float64(5.191071860804534), np.float64(5.120720102010565), np.float64(5.0503683432165944), np.float64(4.980016584422625), np.float64(4.9096648256286555), np.float64(4.839313066834685), np.float64(4.768961308040716), np.float64(4.698609549246745), np.float64(4.628257790452776), np.float64(4.557906031658806), np.float64(4.487554272864836), np.float64(4.417202514070866), np.float64(4.346850755276896), np.float64(4.2764989964829265), np.float64(4.206147237688957), np.float64(4.135795478894987), np.float64(4.065443720101017), np.float64(3.995091961307047), np.float64(3.9247402025130773), np.float64(3.854388443719108), np.float64(3.7840366849251375), np.float64(3.713684926131168), np.float64(3.6433331673371976), np.float64(3.572981408543228), np.float64(3.5026296497492577), np.float64(3.4322778909552882), np.float64(3.3619261321613187), np.float64(3.2915743733673484), np.float64(3.221222614573378), np.float64(3.1508708557794094), np.float64(3.080519096985439), np.float64(3.0101673381914686), np.float64(2.9398155793975), np.float64(2.8694638206035297), np.float64(2.7991120618095593), np.float64(2.7287603030155907), np.float64(2.6584085442216203), np.float64(2.58805678542765), np.float64(2.5177050266336796), np.float64(2.447353267839711), np.float64(2.3770015090457406), np.float64(2.30664975025177), np.float64(2.2362979914578016), np.float64(2.1659462326638312), np.float64(2.095594473869861), np.float64(2.0252427150758905), np.float64(1.9548909562819219), np.float64(1.8845391974879515), np.float64(1.8141874386939811), np.float64(1.7438356799000125), np.float64(1.6734839211060422), np.float64(1.6031321623120718), np.float64(1.5327804035181032), np.float64(1.4624286447241328), np.float64(1.3920768859301624), np.float64(1.321725127136192), np.float64(1.2513733683422235), np.float64(1.181021609548253), np.float64(1.1106698507542827), np.float64(1.040318091960314), np.float64(0.9699663331663437), np.float64(0.8996145743723734), np.float64(0.8292628155784048), np.float64(0.7589110567844344), np.float64(0.688559297990464), np.float64(0.6182075391964936), np.float64(0.547855780402525), np.float64(0.47750402160855465), np.float64(0.4071522628145843), np.float64(0.3368005040206157), np.float64(0.2664487452266453), np.float64(0.19609698643267492), np.float64(0.12574522763870633), np.float64(0.05539346884473595), np.float64(0.014958289949234427), np.float64(0.0853100487432048), np.float64(0.1556618075371734), np.float64(0.22601356633114378), np.float64(0.29636532512511415), np.float64(0.36671708391908275), np.float64(0.43706884271305313), np.float64(0.5074206015070235), np.float64(0.5777723603009939), np.float64(0.6481241190949625), np.float64(0.7184758778889329), np.float64(0.7888276366829032), np.float64(0.8591793954768718), np.float64(0.9295311542708422), np.float64(0.9998829130648126), np.float64(1.0702346718587812), np.float64(1.1405864306527516), np.float64(1.210938189446722), np.float64(1.2812899482406923), np.float64(1.351641707034661), np.float64(1.4219934658286313), np.float64(1.4923452246226017), np.float64(1.5626969834165703), np.float64(1.6330487422105406), np.float64(1.703400501004511), np.float64(1.7737522597984796), np.float64(1.84410401859245), np.float64(1.9144557773864204), np.float64(1.9848075361803907), np.float64(2.0551592949743593), np.float64(2.1255110537683297), np.float64(2.1958628125623), np.float64(2.2662145713562687), np.float64(2.336566330150239), np.float64(2.4069180889442094), np.float64(2.47726984773818), np.float64(2.5476216065321484)]\n",
      "161\n"
     ]
    },
    {
     "data": {
      "text/markdown": [
       "\n",
       "# Extracting the value of the European put option via PDE solution at time $T_0$ = 1.\n",
       "---\n",
       "For the spot price of $S_{0} = 80$, we need to extract the value of solution at approximately\n",
       "$$\n",
       "x = \\ln(80) \\sim 4.382\n",
       "$$\n",
       "\n",
       "This roughly corresponds to 161th component of the solution vector.\n",
       "\n",
       "As $V = e^{-r\\tau}W$, and the fact that the variables $r = 0.05$ and $T_0 = 1$, we need to multiply the result by\n",
       "$$\n",
       "e^{-r \\tau} \\Rightarrow e^{-0.05}\n",
       "$$\n",
       "Hence the value of the option should be\n",
       "$$\n",
       "\\text{Value of option} \\sim e^{-0.05}W(161) \\sim 0.9512*W(161)\n",
       "$$\n",
       "\n"
      ],
      "text/plain": [
       "<IPython.core.display.Markdown object>"
      ]
     },
     "metadata": {},
     "output_type": "display_data"
    }
   ],
   "source": [
    "x111 = np.round(np.log(S_0),5)\n",
    "\n",
    "print(\"This the len of acc_sol\", len(acc_sol_prop))\n",
    "print([(i+1,convert_to_x(i+1,n_grid),np.exp(convert_to_x(i+1,n_grid)),acc_sol_prop[i]) for i in range(len(acc_sol_prop))])\n",
    "print(\"---\")\n",
    "print(\"---\")\n",
    "print(\"----\")\n",
    "print(np.exp(convert_to_x(1,n_grid)),bs_op.black_scholes_1D_analytic(np.exp(convert_to_x(1,n_grid)),K,r,vol,T_0,'put')) # Just checking if the first component is correct\n",
    "print(\"---\")\n",
    "\n",
    "first_list      = [(j,convert_to_x(j,n_grid),np.exp(convert_to_x(j,n_grid))) for j in range(1,n_grid-1)]\n",
    "first_list_diff = [np.abs(convert_to_x(j,n_grid)-np.log(S_0)) for j in range(1,n_grid-1)]\n",
    "index = np.argmin(first_list_diff) + 0\n",
    "\n",
    "print(first_list)\n",
    "print(first_list_diff)\n",
    "print(index)\n",
    "\n",
    "markdown_string = f\"\"\"\n",
    "# Extracting the value of the European put option via PDE solution at time $T_{0}$ = {T_0}.\n",
    "---\n",
    "For the spot price of $S_{{0}} = {S_0}$, we need to extract the value of solution at approximately\n",
    "$$\n",
    "x = \\ln({S_0}) \\sim {np.round(np.log(S_0),4)}\n",
    "$$\n",
    "\n",
    "This roughly corresponds to {index}th component of the solution vector.\n",
    "\n",
    "As $V = e^{{-r\\\\tau}}W$, and the fact that the variables $r = {r}$ and $T_0 = {T_0}$, we need to multiply the result by\n",
    "$$\n",
    "e^{{-r \\\\tau}} \\Rightarrow e^{{-{r*T_0}}}\n",
    "$$\n",
    "Hence the value of the option should be\n",
    "$$\n",
    "\\\\text{{Value of option}} \\sim e^{{-{r*T_0}}}W({index}) \\sim {np.round(np.exp(-r*T_0),4)}*W({index})\n",
    "$$\n",
    "\n",
    "\"\"\"\n",
    "display(Markdown(markdown_string))"
   ]
  },
  {
   "cell_type": "markdown",
   "metadata": {},
   "source": [
    "---\n",
    "Using the analytic solutions to the 1D Black Scholes equation for puts and calls:\n",
    "$$\n",
    "V_{call} = N(d_{+})S_{0}-N(d_{-})Ke^{-rT}\n",
    "$$\n",
    "$$\n",
    "V_{put} = N(-d_{-})Ke^{-rT}-N(-d_{-})S_{0}\n",
    "$$\n",
    "with $d_{-},d_{+}$ defined as :\n",
    "$ d_{+} = \\frac{1}{\\sigma \\sqrt{T}}\\left(\\ln(\\frac{S_{0}}{K})+\\left(r+\\frac{\\sigma^2}{2} \\right)T  \\right); \\quad d_{-} = d_{+} -\\sigma\\sqrt{T}$"
   ]
  },
  {
   "cell_type": "code",
   "execution_count": 76,
   "metadata": {},
   "outputs": [
    {
     "name": "stdout",
     "output_type": "stream",
     "text": [
      "-------------------\n",
      "|Numerical Results|\n",
      "-------------------\n",
      "\n",
      "The value of the option with above parameters with proper scheme up to T_0 is   = 33.327647\n",
      "The value of the option with above parameters with improper scheme up to T_0 is = 33.403629\n",
      "\n",
      "------------------\n",
      "|Analytic Results|\n",
      "------------------\n",
      "                                                                                ----\n",
      "The value of the option with above parameters at T_0 is                         = 34.435235\n"
     ]
    }
   ],
   "source": [
    "##Test the value of the option at S=80 with the improper central difference scheme\n",
    "# print(acc_sol_prop)\n",
    "value_prop = np.exp(-r*T_0)*acc_sol_prop[index]\n",
    "value_improp = np.exp(-r*T_0)*acc_sol_improp[index]\n",
    "\n",
    "print(\"-------------------\\n|Numerical Results|\\n-------------------\\n\")\n",
    "print(\"The value of the option with above parameters with proper scheme up to T_0 is   = %f\" % (value_prop))\n",
    "print(\"The value of the option with above parameters with improper scheme up to T_0 is = %f\\n\" % (value_improp))\n",
    "print(\"------------------\\n|Analytic Results|\\n------------------\\n\" + ' '*80 +\"----\")\n",
    "print(\"The value of the option with above parameters at T_0 is                         = %f\" % (bs_op.black_scholes_1D_analytic(S_0,K,r,vol,T_0,'put')))"
   ]
  },
  {
   "cell_type": "code",
   "execution_count": 77,
   "metadata": {},
   "outputs": [
    {
     "data": {
      "text/plain": [
       "np.float64(30.4499295915936)"
      ]
     },
     "execution_count": 77,
     "metadata": {},
     "output_type": "execute_result"
    }
   ],
   "source": [
    "bs_op.black_scholes_1D_analytic(S_0,K,r,vol,Total_life_option,'put')"
   ]
  },
  {
   "cell_type": "markdown",
   "metadata": {},
   "source": [
    "## Estimating option value at time $T_{0}+T_{1}$ through inner product of probability vector and option value encoded vector."
   ]
  },
  {
   "cell_type": "code",
   "execution_count": 78,
   "metadata": {},
   "outputs": [
    {
     "name": "stdout",
     "output_type": "stream",
     "text": [
      "-------------------\n",
      "|Numerical Results|\n",
      "-------------------\n",
      "\n",
      "The value of the option estimated by inner product with  proper scheme up to T_0 +T_1 is   = 30.478998\n",
      "The value of the option estimated by inner product with improper scheme up to T_0 + T_1 is = 30.498394\n",
      "\n",
      "------------------\n",
      "|Analytic Results|\n",
      "------------------\n",
      "                                                                                           ----\n",
      "The value of the option with above parameters at T_0 is                                    = 30.449930\n"
     ]
    }
   ],
   "source": [
    "option_estimate_prop = np.exp(-r*(T_0+T_1))*np.dot(pdf_list_grid,acc_sol_prop)*spatial_step\n",
    "option_estimate_improp = np.exp(-r*(T_0+T_1))*np.dot(pdf_list_grid,acc_sol_improp)*spatial_step\n",
    "\n",
    "print(\"-------------------\\n|Numerical Results|\\n-------------------\\n\")\n",
    "print(\"The value of the option estimated by inner product with  proper scheme up to T_0 +T_1 is   = %f\" % (option_estimate_prop))\n",
    "print(\"The value of the option estimated by inner product with improper scheme up to T_0 + T_1 is = %f\\n\" % (option_estimate_improp))\n",
    "print(\"------------------\\n|Analytic Results|\\n------------------\\n\" + ' '*91 +\"----\")\n",
    "print(\"The value of the option with above parameters at T_0 is                                    = %f\" % (bs_op.black_scholes_1D_analytic(S_0,K,r,vol,T_0+T_1,'put')))"
   ]
  }
 ],
 "metadata": {
  "kernelspec": {
   "display_name": "Python 3",
   "language": "python",
   "name": "python3"
  },
  "language_info": {
   "codemirror_mode": {
    "name": "ipython",
    "version": 3
   },
   "file_extension": ".py",
   "mimetype": "text/x-python",
   "name": "python",
   "nbconvert_exporter": "python",
   "pygments_lexer": "ipython3",
   "version": "3.10.12"
  }
 },
 "nbformat": 4,
 "nbformat_minor": 2
}
